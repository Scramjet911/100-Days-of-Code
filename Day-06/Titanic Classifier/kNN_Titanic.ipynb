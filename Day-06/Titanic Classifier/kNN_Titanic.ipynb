{
  "nbformat": 4,
  "nbformat_minor": 0,
  "metadata": {
    "kernelspec": {
      "display_name": "Python 3",
      "language": "python",
      "name": "python3"
    },
    "language_info": {
      "codemirror_mode": {
        "name": "ipython",
        "version": 3
      },
      "file_extension": ".py",
      "mimetype": "text/x-python",
      "name": "python",
      "nbconvert_exporter": "python",
      "pygments_lexer": "ipython3",
      "version": "3.6.8"
    },
    "colab": {
      "name": "kNN_Titanic.ipynb",
      "provenance": [],
      "collapsed_sections": [],
      "toc_visible": true
    }
  },
  "cells": [
    {
      "cell_type": "code",
      "metadata": {
        "id": "jbgZzaeIAQQG",
        "colab_type": "code",
        "colab": {}
      },
      "source": [
        "import pandas as pd"
      ],
      "execution_count": 0,
      "outputs": []
    },
    {
      "cell_type": "code",
      "metadata": {
        "id": "drS2iy81AQQa",
        "colab_type": "code",
        "colab": {}
      },
      "source": [
        "data = pd.read_csv('train.csv')"
      ],
      "execution_count": 0,
      "outputs": []
    },
    {
      "cell_type": "code",
      "metadata": {
        "id": "O9s_eRnyAQQu",
        "colab_type": "code",
        "colab": {
          "base_uri": "https://localhost:8080/",
          "height": 253
        },
        "outputId": "c86a265f-e538-4d08-da79-002f0bdc4fde"
      },
      "source": [
        "data.isnull().sum()"
      ],
      "execution_count": 6,
      "outputs": [
        {
          "output_type": "execute_result",
          "data": {
            "text/plain": [
              "PassengerId      0\n",
              "Survived         0\n",
              "Pclass           0\n",
              "Name             0\n",
              "Sex              0\n",
              "Age            177\n",
              "SibSp            0\n",
              "Parch            0\n",
              "Ticket           0\n",
              "Fare             0\n",
              "Cabin          687\n",
              "Embarked         2\n",
              "dtype: int64"
            ]
          },
          "metadata": {
            "tags": []
          },
          "execution_count": 6
        }
      ]
    },
    {
      "cell_type": "code",
      "metadata": {
        "id": "c6JcG2YuAQQ9",
        "colab_type": "code",
        "colab": {}
      },
      "source": [
        "agemean = round(data['Age'].mean())"
      ],
      "execution_count": 0,
      "outputs": []
    },
    {
      "cell_type": "code",
      "metadata": {
        "id": "xZ1s2YQsAQRK",
        "colab_type": "code",
        "colab": {}
      },
      "source": [
        "data['Age'].fillna(agemean, inplace = True)"
      ],
      "execution_count": 0,
      "outputs": []
    },
    {
      "cell_type": "code",
      "metadata": {
        "id": "2zDZoZZWAQRX",
        "colab_type": "code",
        "colab": {}
      },
      "source": [
        "del data['Cabin']\n",
        "del data['Name']\n",
        "del data['Ticket']\n",
        "del data['PassengerId']"
      ],
      "execution_count": 0,
      "outputs": []
    },
    {
      "cell_type": "code",
      "metadata": {
        "id": "nKzTGIVfAQRj",
        "colab_type": "code",
        "colab": {}
      },
      "source": [
        "data['Embarked'].fillna(data['Embarked'].mode()[0], inplace = True)"
      ],
      "execution_count": 0,
      "outputs": []
    },
    {
      "cell_type": "code",
      "metadata": {
        "id": "C0Th7ZwEAQRr",
        "colab_type": "code",
        "colab": {
          "base_uri": "https://localhost:8080/",
          "height": 181
        },
        "outputId": "81130631-83e0-4d45-c3b1-e78d5100c13e"
      },
      "source": [
        "data.isnull().sum()"
      ],
      "execution_count": 11,
      "outputs": [
        {
          "output_type": "execute_result",
          "data": {
            "text/plain": [
              "Survived    0\n",
              "Pclass      0\n",
              "Sex         0\n",
              "Age         0\n",
              "SibSp       0\n",
              "Parch       0\n",
              "Fare        0\n",
              "Embarked    0\n",
              "dtype: int64"
            ]
          },
          "metadata": {
            "tags": []
          },
          "execution_count": 11
        }
      ]
    },
    {
      "cell_type": "code",
      "metadata": {
        "scrolled": true,
        "id": "e111q8onAQR0",
        "colab_type": "code",
        "colab": {
          "base_uri": "https://localhost:8080/",
          "height": 181
        },
        "outputId": "2ef49bce-49db-41ec-a487-b81f75c67672"
      },
      "source": [
        "data.dtypes"
      ],
      "execution_count": 21,
      "outputs": [
        {
          "output_type": "execute_result",
          "data": {
            "text/plain": [
              "Survived      int64\n",
              "Pclass        int64\n",
              "Sex          object\n",
              "Age         float64\n",
              "SibSp         int64\n",
              "Parch         int64\n",
              "Fare        float64\n",
              "Embarked     object\n",
              "dtype: object"
            ]
          },
          "metadata": {
            "tags": []
          },
          "execution_count": 21
        }
      ]
    },
    {
      "cell_type": "code",
      "metadata": {
        "id": "L3iL271dAQSA",
        "colab_type": "code",
        "colab": {}
      },
      "source": [
        "y = data['Survived'].copy()\n",
        "x = data.copy()\n",
        "del x['Survived']"
      ],
      "execution_count": 0,
      "outputs": []
    },
    {
      "cell_type": "code",
      "metadata": {
        "id": "mkDuuTjyAQSL",
        "colab_type": "code",
        "colab": {
          "base_uri": "https://localhost:8080/",
          "height": 489
        },
        "outputId": "ba2e6ac3-e287-4bc6-8197-e616141e26d2"
      },
      "source": [
        "print(x)\n",
        "print(y)"
      ],
      "execution_count": 24,
      "outputs": [
        {
          "output_type": "stream",
          "text": [
            "     Pclass     Sex   Age  SibSp  Parch     Fare Embarked\n",
            "0         3    male  22.0      1      0   7.2500        S\n",
            "1         1  female  38.0      1      0  71.2833        C\n",
            "2         3  female  26.0      0      0   7.9250        S\n",
            "3         1  female  35.0      1      0  53.1000        S\n",
            "4         3    male  35.0      0      0   8.0500        S\n",
            "..      ...     ...   ...    ...    ...      ...      ...\n",
            "886       2    male  27.0      0      0  13.0000        S\n",
            "887       1  female  19.0      0      0  30.0000        S\n",
            "888       3  female  30.0      1      2  23.4500        S\n",
            "889       1    male  26.0      0      0  30.0000        C\n",
            "890       3    male  32.0      0      0   7.7500        Q\n",
            "\n",
            "[891 rows x 7 columns]\n",
            "0      0\n",
            "1      1\n",
            "2      1\n",
            "3      1\n",
            "4      0\n",
            "      ..\n",
            "886    0\n",
            "887    1\n",
            "888    0\n",
            "889    1\n",
            "890    0\n",
            "Name: Survived, Length: 891, dtype: int64\n"
          ],
          "name": "stdout"
        }
      ]
    },
    {
      "cell_type": "code",
      "metadata": {
        "id": "BnMmLoM9AQSW",
        "colab_type": "code",
        "colab": {}
      },
      "source": [
        "from sklearn.preprocessing import OneHotEncoder\n",
        "from sklearn.preprocessing import MinMaxScaler\n",
        "from sklearn.compose import make_column_transformer\n",
        "\n",
        "categorical = ['Sex', 'Embarked']\n",
        "numerical = ['Pclass', 'Age', 'SibSp', 'Parch', 'Fare']\n",
        "col_trans = make_column_transformer((OneHotEncoder(handle_unknown = \"error\",drop = \"first\"),categorical),(MinMaxScaler(),numerical))\n",
        "trans_x = col_trans.fit_transform(x)\n",
        "trans_x = pd.DataFrame(trans_x)\n",
        "# print(x)"
      ],
      "execution_count": 0,
      "outputs": []
    },
    {
      "cell_type": "code",
      "metadata": {
        "id": "Bo2KJShrAQS0",
        "colab_type": "code",
        "colab": {}
      },
      "source": [
        "from sklearn.model_selection import train_test_split\n",
        "x_train, x_test, y_train, y_test = train_test_split(trans_x, y, test_size = 0.2, random_state = 43, stratify = y)"
      ],
      "execution_count": 0,
      "outputs": []
    },
    {
      "cell_type": "markdown",
      "metadata": {
        "id": "WYSgS7TgAQS_",
        "colab_type": "text"
      },
      "source": [
        "### Using Mathew Correlation Coeffient for scoring"
      ]
    },
    {
      "cell_type": "code",
      "metadata": {
        "id": "0aVv9u0DAQTA",
        "colab_type": "code",
        "colab": {}
      },
      "source": [
        "from sklearn.neighbors import KNeighborsClassifier as knn\n",
        "from sklearn.metrics import matthews_corrcoef as mcoeff\n",
        "from matplotlib import pyplot as plt"
      ],
      "execution_count": 0,
      "outputs": []
    },
    {
      "cell_type": "code",
      "metadata": {
        "id": "KYaZeIGSRrU1",
        "colab_type": "code",
        "colab": {
          "base_uri": "https://localhost:8080/",
          "height": 35
        },
        "outputId": "a649da07-46be-4f8a-b8d0-4ae271e7e6d9"
      },
      "source": [
        "classif = knn(n_neighbors=5)\n",
        "\n",
        "classif.fit(x_train, y_train)\n",
        "\n",
        "test_predict = classif.predict(x_test)\n",
        "sc = mcoeff(test_predict,y_test)\n",
        "print(sc)"
      ],
      "execution_count": 46,
      "outputs": [
        {
          "output_type": "stream",
          "text": [
            "0.544551646612115\n"
          ],
          "name": "stdout"
        }
      ]
    },
    {
      "cell_type": "code",
      "metadata": {
        "id": "F5GtCdyiS27P",
        "colab_type": "code",
        "colab": {
          "base_uri": "https://localhost:8080/",
          "height": 331
        },
        "outputId": "6d0ed501-ff76-4ef0-e4d3-00ea91836184"
      },
      "source": [
        "scores = []\n",
        "best_k = 0\n",
        "max_coeff = -1\n",
        "for i in range(2,45):\n",
        "  clf = knn(n_neighbors=i)\n",
        "  clf.fit(x_train,y_train)\n",
        "  \n",
        "  test_predict = clf.predict(x_test)\n",
        "  curr_coeff = mcoeff(test_predict,y_test)\n",
        "  if(max_coeff < curr_coeff):\n",
        "    best_k = i\n",
        "    max_coeff = max(curr_coeff,max_coeff)\n",
        "  scores.append(curr_coeff)\n",
        "plt.plot(range(2,45),scores)\n",
        "plt.xlabel('K value')\n",
        "plt.ylabel('Matthew Coefficient')\n",
        "plt.title('Elbow Curve')\n",
        "print(best_k)\n",
        "print(max_coeff)"
      ],
      "execution_count": 55,
      "outputs": [
        {
          "output_type": "stream",
          "text": [
            "37\n",
            "0.6637445429046149\n"
          ],
          "name": "stdout"
        },
        {
          "output_type": "display_data",
          "data": {
            "image/png": "[encoded data removed]",
            "text/plain": [
              "<Figure size 432x288 with 1 Axes>"
            ]
          },
          "metadata": {
            "tags": [],
            "needs_background": "light"
          }
        }
      ]
    },
    {
      "cell_type": "markdown",
      "metadata": {
        "id": "fkQy5x6KWY05",
        "colab_type": "text"
      },
      "source": [
        "###Therefore the best k value is 37 and it gives a Matthews Coefficient of 0.66 which is pretty good."
      ]
    }
  ]
}